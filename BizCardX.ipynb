{
 "cells": [
  {
   "cell_type": "code",
   "execution_count": null,
   "id": "d1cbc251",
   "metadata": {},
   "outputs": [],
   "source": [
    "import easyocr\n",
    "import regex as re"
   ]
  },
  {
   "cell_type": "code",
   "execution_count": null,
   "id": "ae3dc0cd-6440-409d-a19c-e9f38f24222e",
   "metadata": {},
   "outputs": [],
   "source": [
    "import easyocr # (Optical Character Recognition)\n",
    "import numpy as np\n",
    "import PIL\n",
    "from PIL import Image, ImageDraw\n",
    "import cv2\n",
    "import os\n",
    "import re\n"
   ]
  },
  {
   "cell_type": "code",
   "execution_count": 1,
   "id": "f6e1683f",
   "metadata": {},
   "outputs": [],
   "source": [
    "# pip install regex"
   ]
  },
  {
   "cell_type": "code",
   "execution_count": 2,
   "id": "867e7d15",
   "metadata": {},
   "outputs": [],
   "source": [
    "# pip install easyocr"
   ]
  },
  {
   "cell_type": "code",
   "execution_count": 3,
   "id": "6f551a9d",
   "metadata": {},
   "outputs": [
    {
     "name": "stderr",
     "output_type": "stream",
     "text": [
      "Neither CUDA nor MPS are available - defaulting to CPU. Note: This module is much faster with a GPU.\n"
     ]
    }
   ],
   "source": [
    "reader = easyocr.Reader(['ch_sim','en'])"
   ]
  },
  {
   "cell_type": "code",
   "execution_count": null,
   "id": "6b48ae1d",
   "metadata": {},
   "outputs": [],
   "source": [
    "result1 = reader.readtext('1.png',detail=0)\n",
    "print(result1)"
   ]
  },
  {
   "cell_type": "code",
   "execution_count": null,
   "id": "64c0ae66",
   "metadata": {},
   "outputs": [],
   "source": [
    "result2 = reader.readtext('2.png',detail=0)\n",
    "print(result2)"
   ]
  },
  {
   "cell_type": "code",
   "execution_count": null,
   "id": "8f01e4ce",
   "metadata": {},
   "outputs": [],
   "source": [
    "result3 = reader.readtext('3.png',detail=0)\n",
    "print(result3)"
   ]
  },
  {
   "cell_type": "code",
   "execution_count": null,
   "id": "ac48a889",
   "metadata": {},
   "outputs": [],
   "source": [
    "result4 = reader.readtext('4.png',detail=0)\n",
    "print(result4)"
   ]
  },
  {
   "cell_type": "code",
   "execution_count": null,
   "id": "0a8b61be",
   "metadata": {},
   "outputs": [],
   "source": [
    "result5 = reader.readtext('5.png',detail=0)\n",
    "print(result5)"
   ]
  },
  {
   "cell_type": "code",
   "execution_count": 1,
   "id": "12c3d98f",
   "metadata": {},
   "outputs": [],
   "source": [
    "def phno(img):\n",
    "  num = []\n",
    "  for i in img:\n",
    "    if re.findall(r'^[+]',i):\n",
    "      num.append(i)\n",
    "    elif(re.findall(r'^\\d{3}-\\d{3}-\\d{4}$',i)):\n",
    "      num.append(i)\n",
    "  return num"
   ]
  },
  {
   "cell_type": "code",
   "execution_count": 2,
   "id": "5e6a7f13",
   "metadata": {},
   "outputs": [],
   "source": [
    "def email(img):\n",
    "  for i in img:\n",
    "    if(re.findall(r'[\\w\\.-]+@[\\w\\.-]+',i)):\n",
    "      return i"
   ]
  },
  {
   "cell_type": "code",
   "execution_count": 3,
   "id": "438af3b5",
   "metadata": {},
   "outputs": [],
   "source": [
    "def website(img):\n",
    "  website = \"\"\n",
    "  for i in img:\n",
    "    if re.match(r'^WWW(?=.*\\.com)', i):\n",
    "      website = i\n",
    "    elif re.match(r'^\\w+\\.com$', i):\n",
    "      website = ('WWW.'+i)\n",
    "  if len(website) ==0:\n",
    "    website = \"Not Available\"\n",
    "  else:\n",
    "    return website"
   ]
  },
  {
   "cell_type": "code",
   "execution_count": 4,
   "id": "a4e0b12f",
   "metadata": {},
   "outputs": [],
   "source": [
    "def name(img):\n",
    "  for i in img:\n",
    "    return i"
   ]
  },
  {
   "cell_type": "code",
   "execution_count": 5,
   "id": "b4ffda1c",
   "metadata": {},
   "outputs": [],
   "source": [
    "def designation(img):\n",
    "  for i in img:\n",
    "    return img[1]"
   ]
  },
  {
   "cell_type": "code",
   "execution_count": 6,
   "id": "64a65cf6",
   "metadata": {},
   "outputs": [],
   "source": [
    "def address(img):\n",
    "  for i in img:\n",
    "    if(re.findall(r'^123+\\s[\\w\\.-]+',i)):\n",
    "      return i[0:10]"
   ]
  },
  {
   "cell_type": "code",
   "execution_count": 7,
   "id": "847eacf5",
   "metadata": {},
   "outputs": [],
   "source": [
    "def domain(img):\n",
    "  for i in img[-1]:\n",
    "    if len(img[-1])> 5:\n",
    "      return img[-1]\n",
    "    else:\n",
    "      return img[-2]"
   ]
  },
  {
   "cell_type": "code",
   "execution_count": 8,
   "id": "a6120965",
   "metadata": {},
   "outputs": [],
   "source": [
    "def district(img):\n",
    "  for i in img:\n",
    "    if(re.search(r'^123+\\s',i)):\n",
    "      if len(i[10:20])> 6:\n",
    "        return i[11:20].replace(\",\",\"\")\n",
    "    elif (re.search(r'\\bErode\\b',i)):\n",
    "      return i.replace(\";\",\"\")\n",
    "  return \"Not Available\""
   ]
  },
  {
   "cell_type": "code",
   "execution_count": 9,
   "id": "26e59b32",
   "metadata": {},
   "outputs": [],
   "source": [
    "def pincode(img):\n",
    "    pincode = None\n",
    "    for i in img:\n",
    "        pincode_match = re.search(r'(\\d{6})|\\b(\\d{3}\\s*\\d{3})\\b', i)\n",
    "        if pincode_match:\n",
    "            pincode = pincode_match.group(0).replace(' ', '')\n",
    "    return pincode"
   ]
  },
  {
   "cell_type": "code",
   "execution_count": 10,
   "id": "ec02fa53",
   "metadata": {},
   "outputs": [],
   "source": [
    "def state(img): \n",
    "    for i in img:\n",
    "        match = re.search(r'TamilNadu', i)\n",
    "        if match:\n",
    "            return match.group()\n",
    "    return \"Not found\""
   ]
  },
  {
   "cell_type": "code",
   "execution_count": 11,
   "id": "692349b1",
   "metadata": {},
   "outputs": [],
   "source": [
    "#create a dictionary with all the data\n",
    "def data(img):\n",
    "  data = {}\n",
    "  data['Name'] = name(img)\n",
    "  data['Designation'] = designation(img)\n",
    "  data['Domain'] = domain(img)\n",
    "  data['Contact'] = phno(img)\n",
    "  data['E-mail'] = email(img)\n",
    "  data['Website'] = website(img)\n",
    "  data['Address'] = address(img)\n",
    "  data['District'] = district(img)\n",
    "  data['State'] = state(img)\n",
    "  data['Pincode'] = pincode(img)\n",
    "  return data"
   ]
  },
  {
   "cell_type": "code",
   "execution_count": 12,
   "id": "820b8f90",
   "metadata": {},
   "outputs": [],
   "source": [
    "import pandas as pd"
   ]
  },
  {
   "cell_type": "code",
   "execution_count": null,
   "id": "846543d7",
   "metadata": {},
   "outputs": [],
   "source": [
    "df_1 = pd.DataFrame(data(result1))\n",
    "\n",
    "df_2 = pd.DataFrame(data(result2))\n",
    "df_3 = pd.DataFrame(data(result3))\n",
    "df_4 = pd.DataFrame(data(result4))\n",
    "df_5 = pd.DataFrame(data(result5))"
   ]
  },
  {
   "cell_type": "code",
   "execution_count": null,
   "id": "a8356168",
   "metadata": {},
   "outputs": [],
   "source": [
    "df = pd.concat([df_1,df_2,df_3,df_4,df_5])"
   ]
  },
  {
   "cell_type": "code",
   "execution_count": null,
   "id": "e821c3c0",
   "metadata": {},
   "outputs": [],
   "source": [
    "df.to_csv('Extracted_data.csv',index=False)\n",
    "\n",
    "extract_data=pd.read_csv('Extracted_data.csv')\n",
    "extract_data"
   ]
  },
  {
   "cell_type": "code",
   "execution_count": null,
   "id": "f8b2255b",
   "metadata": {},
   "outputs": [],
   "source": [
    "extract_data[1:6]"
   ]
  },
  {
   "cell_type": "code",
   "execution_count": null,
   "id": "59d2ae72",
   "metadata": {},
   "outputs": [],
   "source": []
  }
 ],
 "metadata": {
  "kernelspec": {
   "display_name": "Python 3 (ipykernel)",
   "language": "python",
   "name": "python3"
  },
  "language_info": {
   "codemirror_mode": {
    "name": "ipython",
    "version": 3
   },
   "file_extension": ".py",
   "mimetype": "text/x-python",
   "name": "python",
   "nbconvert_exporter": "python",
   "pygments_lexer": "ipython3",
   "version": "3.12.0"
  }
 },
 "nbformat": 4,
 "nbformat_minor": 5
}
